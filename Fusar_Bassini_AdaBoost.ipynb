{
 "cells": [
  {
   "cell_type": "code",
   "execution_count": null,
   "id": "df8e3b61",
   "metadata": {},
   "outputs": [],
   "source": [
    "import numpy as np\n",
    "import pandas as pd\n",
    "import seaborn as sns\n",
    "import matplotlib.pyplot as plt\n",
    "import sys"
   ]
  },
  {
   "cell_type": "markdown",
   "id": "bda16a42",
   "metadata": {},
   "source": [
    "For completeness, the code includes also the plot that shows the relation between weight and error for every stump."
   ]
  },
  {
   "cell_type": "code",
   "execution_count": 2,
   "id": "d338124e",
   "metadata": {},
   "outputs": [
    {
     "data": {
      "image/png": "[encoded data removed]",
      "text/plain": [
       "<Figure size 432x288 with 1 Axes>"
      ]
     },
     "metadata": {
      "needs_background": "light"
     },
     "output_type": "display_data"
    }
   ],
   "source": [
    "eps = np.arange(0.01,0.99,0.01)\n",
    "w = 1/2*np.log((1-eps)/eps)\n",
    "plt.title('$ω_i$ in relation to $ε_i$')\n",
    "plt.ylabel('$ω_i$')\n",
    "plt.xlabel('$ε_i$')\n",
    "plt.plot(eps,w)\n",
    "\n",
    "plt.savefig(\"we.jpg\",dpi=300)\n",
    "plt.show()"
   ]
  },
  {
   "cell_type": "code",
   "execution_count": 3,
   "id": "e33ad8f6",
   "metadata": {},
   "outputs": [
    {
     "data": {
      "text/plain": [
       "(15120, 56)"
      ]
     },
     "execution_count": 3,
     "metadata": {},
     "output_type": "execute_result"
    }
   ],
   "source": [
    "dataset = pd.read_csv('Datasets/forest-cover-type.csv')\n",
    "dataset.shape"
   ]
  },
  {
   "cell_type": "code",
   "execution_count": 4,
   "id": "91df6845",
   "metadata": {
    "scrolled": true
   },
   "outputs": [
    {
     "data": {
      "text/html": [
       "<div>\n",
       "<style scoped>\n",
       "    .dataframe tbody tr th:only-of-type {\n",
       "        vertical-align: middle;\n",
       "    }\n",
       "\n",
       "    .dataframe tbody tr th {\n",
       "        vertical-align: top;\n",
       "    }\n",
       "\n",
       "    .dataframe thead th {\n",
       "        text-align: right;\n",
       "    }\n",
       "</style>\n",
       "<table border=\"1\" class=\"dataframe\">\n",
       "  <thead>\n",
       "    <tr style=\"text-align: right;\">\n",
       "      <th></th>\n",
       "      <th>Id</th>\n",
       "      <th>Elevation</th>\n",
       "      <th>Aspect</th>\n",
       "      <th>Slope</th>\n",
       "      <th>Horizontal_Distance_To_Hydrology</th>\n",
       "      <th>Vertical_Distance_To_Hydrology</th>\n",
       "      <th>Horizontal_Distance_To_Roadways</th>\n",
       "      <th>Hillshade_9am</th>\n",
       "      <th>Hillshade_Noon</th>\n",
       "      <th>Hillshade_3pm</th>\n",
       "      <th>...</th>\n",
       "      <th>Soil_Type32</th>\n",
       "      <th>Soil_Type33</th>\n",
       "      <th>Soil_Type34</th>\n",
       "      <th>Soil_Type35</th>\n",
       "      <th>Soil_Type36</th>\n",
       "      <th>Soil_Type37</th>\n",
       "      <th>Soil_Type38</th>\n",
       "      <th>Soil_Type39</th>\n",
       "      <th>Soil_Type40</th>\n",
       "      <th>Cover_Type</th>\n",
       "    </tr>\n",
       "  </thead>\n",
       "  <tbody>\n",
       "    <tr>\n",
       "      <th>0</th>\n",
       "      <td>1</td>\n",
       "      <td>2596</td>\n",
       "      <td>51</td>\n",
       "      <td>3</td>\n",
       "      <td>258</td>\n",
       "      <td>0</td>\n",
       "      <td>510</td>\n",
       "      <td>221</td>\n",
       "      <td>232</td>\n",
       "      <td>148</td>\n",
       "      <td>...</td>\n",
       "      <td>0</td>\n",
       "      <td>0</td>\n",
       "      <td>0</td>\n",
       "      <td>0</td>\n",
       "      <td>0</td>\n",
       "      <td>0</td>\n",
       "      <td>0</td>\n",
       "      <td>0</td>\n",
       "      <td>0</td>\n",
       "      <td>5</td>\n",
       "    </tr>\n",
       "    <tr>\n",
       "      <th>1</th>\n",
       "      <td>2</td>\n",
       "      <td>2590</td>\n",
       "      <td>56</td>\n",
       "      <td>2</td>\n",
       "      <td>212</td>\n",
       "      <td>-6</td>\n",
       "      <td>390</td>\n",
       "      <td>220</td>\n",
       "      <td>235</td>\n",
       "      <td>151</td>\n",
       "      <td>...</td>\n",
       "      <td>0</td>\n",
       "      <td>0</td>\n",
       "      <td>0</td>\n",
       "      <td>0</td>\n",
       "      <td>0</td>\n",
       "      <td>0</td>\n",
       "      <td>0</td>\n",
       "      <td>0</td>\n",
       "      <td>0</td>\n",
       "      <td>5</td>\n",
       "    </tr>\n",
       "    <tr>\n",
       "      <th>2</th>\n",
       "      <td>3</td>\n",
       "      <td>2804</td>\n",
       "      <td>139</td>\n",
       "      <td>9</td>\n",
       "      <td>268</td>\n",
       "      <td>65</td>\n",
       "      <td>3180</td>\n",
       "      <td>234</td>\n",
       "      <td>238</td>\n",
       "      <td>135</td>\n",
       "      <td>...</td>\n",
       "      <td>0</td>\n",
       "      <td>0</td>\n",
       "      <td>0</td>\n",
       "      <td>0</td>\n",
       "      <td>0</td>\n",
       "      <td>0</td>\n",
       "      <td>0</td>\n",
       "      <td>0</td>\n",
       "      <td>0</td>\n",
       "      <td>2</td>\n",
       "    </tr>\n",
       "    <tr>\n",
       "      <th>3</th>\n",
       "      <td>4</td>\n",
       "      <td>2785</td>\n",
       "      <td>155</td>\n",
       "      <td>18</td>\n",
       "      <td>242</td>\n",
       "      <td>118</td>\n",
       "      <td>3090</td>\n",
       "      <td>238</td>\n",
       "      <td>238</td>\n",
       "      <td>122</td>\n",
       "      <td>...</td>\n",
       "      <td>0</td>\n",
       "      <td>0</td>\n",
       "      <td>0</td>\n",
       "      <td>0</td>\n",
       "      <td>0</td>\n",
       "      <td>0</td>\n",
       "      <td>0</td>\n",
       "      <td>0</td>\n",
       "      <td>0</td>\n",
       "      <td>2</td>\n",
       "    </tr>\n",
       "    <tr>\n",
       "      <th>4</th>\n",
       "      <td>5</td>\n",
       "      <td>2595</td>\n",
       "      <td>45</td>\n",
       "      <td>2</td>\n",
       "      <td>153</td>\n",
       "      <td>-1</td>\n",
       "      <td>391</td>\n",
       "      <td>220</td>\n",
       "      <td>234</td>\n",
       "      <td>150</td>\n",
       "      <td>...</td>\n",
       "      <td>0</td>\n",
       "      <td>0</td>\n",
       "      <td>0</td>\n",
       "      <td>0</td>\n",
       "      <td>0</td>\n",
       "      <td>0</td>\n",
       "      <td>0</td>\n",
       "      <td>0</td>\n",
       "      <td>0</td>\n",
       "      <td>5</td>\n",
       "    </tr>\n",
       "  </tbody>\n",
       "</table>\n",
       "<p>5 rows × 56 columns</p>\n",
       "</div>"
      ],
      "text/plain": [
       "   Id  Elevation  Aspect  Slope  Horizontal_Distance_To_Hydrology  \\\n",
       "0   1       2596      51      3                               258   \n",
       "1   2       2590      56      2                               212   \n",
       "2   3       2804     139      9                               268   \n",
       "3   4       2785     155     18                               242   \n",
       "4   5       2595      45      2                               153   \n",
       "\n",
       "   Vertical_Distance_To_Hydrology  Horizontal_Distance_To_Roadways  \\\n",
       "0                               0                              510   \n",
       "1                              -6                              390   \n",
       "2                              65                             3180   \n",
       "3                             118                             3090   \n",
       "4                              -1                              391   \n",
       "\n",
       "   Hillshade_9am  Hillshade_Noon  Hillshade_3pm  ...  Soil_Type32  \\\n",
       "0            221             232            148  ...            0   \n",
       "1            220             235            151  ...            0   \n",
       "2            234             238            135  ...            0   \n",
       "3            238             238            122  ...            0   \n",
       "4            220             234            150  ...            0   \n",
       "\n",
       "   Soil_Type33  Soil_Type34  Soil_Type35  Soil_Type36  Soil_Type37  \\\n",
       "0            0            0            0            0            0   \n",
       "1            0            0            0            0            0   \n",
       "2            0            0            0            0            0   \n",
       "3            0            0            0            0            0   \n",
       "4            0            0            0            0            0   \n",
       "\n",
       "   Soil_Type38  Soil_Type39  Soil_Type40  Cover_Type  \n",
       "0            0            0            0           5  \n",
       "1            0            0            0           5  \n",
       "2            0            0            0           2  \n",
       "3            0            0            0           2  \n",
       "4            0            0            0           5  \n",
       "\n",
       "[5 rows x 56 columns]"
      ]
     },
     "execution_count": 4,
     "metadata": {},
     "output_type": "execute_result"
    }
   ],
   "source": [
    "dataset.head()"
   ]
  },
  {
   "cell_type": "markdown",
   "id": "d0557ee0",
   "metadata": {},
   "source": [
    "We check for missing values:"
   ]
  },
  {
   "cell_type": "code",
   "execution_count": 5,
   "id": "03b8209c",
   "metadata": {},
   "outputs": [
    {
     "data": {
      "text/plain": [
       "Id                                    0\n",
       "Elevation                             0\n",
       "Aspect                                0\n",
       "Slope                                 0\n",
       "Horizontal_Distance_To_Hydrology      0\n",
       "Vertical_Distance_To_Hydrology        0\n",
       "Horizontal_Distance_To_Roadways       0\n",
       "Hillshade_9am                         0\n",
       "Hillshade_Noon                        0\n",
       "Hillshade_3pm                         0\n",
       "Horizontal_Distance_To_Fire_Points    0\n",
       "Wilderness_Area1                      0\n",
       "Wilderness_Area2                      0\n",
       "Wilderness_Area3                      0\n",
       "Wilderness_Area4                      0\n",
       "Soil_Type1                            0\n",
       "Soil_Type2                            0\n",
       "Soil_Type3                            0\n",
       "Soil_Type4                            0\n",
       "Soil_Type5                            0\n",
       "Soil_Type6                            0\n",
       "Soil_Type7                            0\n",
       "Soil_Type8                            0\n",
       "Soil_Type9                            0\n",
       "Soil_Type10                           0\n",
       "Soil_Type11                           0\n",
       "Soil_Type12                           0\n",
       "Soil_Type13                           0\n",
       "Soil_Type14                           0\n",
       "Soil_Type15                           0\n",
       "Soil_Type16                           0\n",
       "Soil_Type17                           0\n",
       "Soil_Type18                           0\n",
       "Soil_Type19                           0\n",
       "Soil_Type20                           0\n",
       "Soil_Type21                           0\n",
       "Soil_Type22                           0\n",
       "Soil_Type23                           0\n",
       "Soil_Type24                           0\n",
       "Soil_Type25                           0\n",
       "Soil_Type26                           0\n",
       "Soil_Type27                           0\n",
       "Soil_Type28                           0\n",
       "Soil_Type29                           0\n",
       "Soil_Type30                           0\n",
       "Soil_Type31                           0\n",
       "Soil_Type32                           0\n",
       "Soil_Type33                           0\n",
       "Soil_Type34                           0\n",
       "Soil_Type35                           0\n",
       "Soil_Type36                           0\n",
       "Soil_Type37                           0\n",
       "Soil_Type38                           0\n",
       "Soil_Type39                           0\n",
       "Soil_Type40                           0\n",
       "Cover_Type                            0\n",
       "dtype: int64"
      ]
     },
     "execution_count": 5,
     "metadata": {},
     "output_type": "execute_result"
    }
   ],
   "source": [
    "dataset.isna().sum()"
   ]
  },
  {
   "cell_type": "markdown",
   "id": "cc9e0fd5",
   "metadata": {},
   "source": [
    "The goal of this analysis is to classify trees into the right forest cover type, stored in the variable Cover_Type. We assess that the variable is balanced in the sample."
   ]
  },
  {
   "cell_type": "code",
   "execution_count": 6,
   "id": "57de3e36",
   "metadata": {
    "scrolled": true
   },
   "outputs": [
    {
     "data": {
      "text/html": [
       "<div>\n",
       "<style scoped>\n",
       "    .dataframe tbody tr th:only-of-type {\n",
       "        vertical-align: middle;\n",
       "    }\n",
       "\n",
       "    .dataframe tbody tr th {\n",
       "        vertical-align: top;\n",
       "    }\n",
       "\n",
       "    .dataframe thead th {\n",
       "        text-align: right;\n",
       "    }\n",
       "</style>\n",
       "<table border=\"1\" class=\"dataframe\">\n",
       "  <thead>\n",
       "    <tr style=\"text-align: right;\">\n",
       "      <th></th>\n",
       "      <th>Id</th>\n",
       "    </tr>\n",
       "    <tr>\n",
       "      <th>Cover_Type</th>\n",
       "      <th></th>\n",
       "    </tr>\n",
       "  </thead>\n",
       "  <tbody>\n",
       "    <tr>\n",
       "      <th>1</th>\n",
       "      <td>2160</td>\n",
       "    </tr>\n",
       "    <tr>\n",
       "      <th>2</th>\n",
       "      <td>2160</td>\n",
       "    </tr>\n",
       "    <tr>\n",
       "      <th>3</th>\n",
       "      <td>2160</td>\n",
       "    </tr>\n",
       "    <tr>\n",
       "      <th>4</th>\n",
       "      <td>2160</td>\n",
       "    </tr>\n",
       "    <tr>\n",
       "      <th>5</th>\n",
       "      <td>2160</td>\n",
       "    </tr>\n",
       "    <tr>\n",
       "      <th>6</th>\n",
       "      <td>2160</td>\n",
       "    </tr>\n",
       "    <tr>\n",
       "      <th>7</th>\n",
       "      <td>2160</td>\n",
       "    </tr>\n",
       "  </tbody>\n",
       "</table>\n",
       "</div>"
      ],
      "text/plain": [
       "              Id\n",
       "Cover_Type      \n",
       "1           2160\n",
       "2           2160\n",
       "3           2160\n",
       "4           2160\n",
       "5           2160\n",
       "6           2160\n",
       "7           2160"
      ]
     },
     "execution_count": 6,
     "metadata": {},
     "output_type": "execute_result"
    }
   ],
   "source": [
    "dataset.groupby('Cover_Type').count().iloc[:, 0:1]"
   ]
  },
  {
   "cell_type": "markdown",
   "id": "1181ff25",
   "metadata": {},
   "source": [
    "We could do it also graphically:"
   ]
  },
  {
   "cell_type": "code",
   "execution_count": 7,
   "id": "037ba512",
   "metadata": {
    "scrolled": false
   },
   "outputs": [
    {
     "data": {
      "image/png": "[encoded data removed]",
      "text/plain": [
       "<Figure size 432x288 with 1 Axes>"
      ]
     },
     "metadata": {
      "needs_background": "light"
     },
     "output_type": "display_data"
    }
   ],
   "source": [
    "ax = sns.countplot(x=\"Cover_Type\", data=dataset)\n",
    "fig = ax.get_figure()\n",
    "fig.savefig(\"count.png\")"
   ]
  },
  {
   "cell_type": "markdown",
   "id": "5887f710",
   "metadata": {},
   "source": [
    "We create \"spl\" possible best threshold for every feature except for the categorical variables (0-1). They have one only possible threshold, 0.5. We will set the parameter \"spl\" = 100 later on."
   ]
  },
  {
   "cell_type": "code",
   "execution_count": 8,
   "id": "33e42a13",
   "metadata": {},
   "outputs": [],
   "source": [
    "def threshold(X_feat,spl):\n",
    "    #check for categorical features\n",
    "    if len(set(X_feat)) == 2:\n",
    "        return np.array([sum(set(X_feat))/2])\n",
    "    else:\n",
    "        #spl is the number of splits\n",
    "        step = (min(X_feat)+max(X_feat))/spl\n",
    "        thr = np.array([round(((index+1) * step),1) for index in range(spl)])\n",
    "        return thr"
   ]
  },
  {
   "cell_type": "markdown",
   "id": "42060fa7",
   "metadata": {},
   "source": [
    "In order to work with y as a boolean (= is or is not of that type), we transform the categorical value into a boolean one for the selected y"
   ]
  },
  {
   "cell_type": "code",
   "execution_count": 9,
   "id": "a7b01171",
   "metadata": {},
   "outputs": [],
   "source": [
    "def bool_y(y,tp):\n",
    "    return np.array([-1 if r!=tp else 1 for r in y])"
   ]
  },
  {
   "cell_type": "markdown",
   "id": "e691af91",
   "metadata": {},
   "source": [
    "L_i by definition"
   ]
  },
  {
   "cell_type": "code",
   "execution_count": 10,
   "id": "d0b1b9fe",
   "metadata": {},
   "outputs": [],
   "source": [
    "def L(X_feat,y,thr):\n",
    "    return np.array([ -1 * y_t if(X_t < thr) else y_t for X_t,y_t in zip(X_feat,y) ])"
   ]
  },
  {
   "cell_type": "markdown",
   "id": "ba01b289",
   "metadata": {},
   "source": [
    "L_i(t) by definition"
   ]
  },
  {
   "cell_type": "code",
   "execution_count": 11,
   "id": "406f9087",
   "metadata": {},
   "outputs": [],
   "source": [
    "def L_t(X_t,y_t,thr):\n",
    "    h_t = -1 if(X_t < thr) else 1\n",
    "    return h_t * y_t"
   ]
  },
  {
   "cell_type": "markdown",
   "id": "9ec27982",
   "metadata": {},
   "source": [
    "Epsilon is by definition the sum of P_i(t) where L_i(t) = -1\n",
    "If the sum is greater than 0.5, we flip the predictor and keep track of the flip in the variable dir_st"
   ]
  },
  {
   "cell_type": "code",
   "execution_count": 12,
   "id": "4bfeefbe",
   "metadata": {},
   "outputs": [],
   "source": [
    "def eps(X_feat,y,thr,P):\n",
    "   \n",
    "    h = np.ones(len(y))\n",
    "    h[X_feat < thr] = -1\n",
    "            \n",
    "    dir_st = 1\n",
    "    min_eps = np.sum(P[h != y])\n",
    "\n",
    "    #flip eps and change dir\n",
    "    if min_eps == 1 or min_eps == 0:\n",
    "        print(\"Special case \" + str(min_eps))\n",
    "        sys.exit()\n",
    "    if min_eps > 0.5:\n",
    "        min_eps = 1 - min_eps\n",
    "        dir_st = -1       \n",
    "    \n",
    "    return min_eps, dir_st"
   ]
  },
  {
   "cell_type": "markdown",
   "id": "b46187d1",
   "metadata": {},
   "source": [
    "The function below has the sole scope of transforming a tuple of tuples into a plain version of it"
   ]
  },
  {
   "cell_type": "code",
   "execution_count": 13,
   "id": "7b44dd16",
   "metadata": {},
   "outputs": [],
   "source": [
    "def flatten(data):\n",
    "    return (data[0],data[1],data[2][0],data[2][1])"
   ]
  },
  {
   "cell_type": "markdown",
   "id": "fdfa8fe6",
   "metadata": {},
   "source": [
    "This function selects the best threshold, given the current P, for the selected feature. Then, among the best splits for each feature, select_feat chooses the one with the smallest error."
   ]
  },
  {
   "cell_type": "code",
   "execution_count": 14,
   "id": "e9401d94",
   "metadata": {},
   "outputs": [],
   "source": [
    "def select_feat(X,y,P,thr):\n",
    "\n",
    "    data = [(i,index,eps(X[:,i],y,thr[i][index],P)) for i in range(X.shape[1]) for index in range(thr[i].shape[0])]\n",
    "    #returns a tuple (best feature number,best eps,direction)\n",
    "\n",
    "    return flatten(min(data, key = lambda t: t[2][0]))"
   ]
  },
  {
   "cell_type": "markdown",
   "id": "0dac8079",
   "metadata": {},
   "source": [
    "Data are then saved into a dictionary while P is updated"
   ]
  },
  {
   "cell_type": "code",
   "execution_count": 15,
   "id": "d3439caf",
   "metadata": {},
   "outputs": [],
   "source": [
    "def update(best_feat, best_eps_ind,best_eps, direction,P,X_train,y,thr):\n",
    "    \n",
    "    w = 1/2 * np.log((1 - best_eps) / best_eps)\n",
    "\n",
    "    E = np.exp(-1 * w * direction * L(X_train[:,best_feat],y,thr[best_feat][best_eps_ind]))   \n",
    "    E = np.array([E[t] * P[t] for t in range(X_train.shape[0])])\n",
    "    E = np.sum(E)\n",
    "    \n",
    "    P = np.array([(P[t] * np.exp(-1 * w * direction * L_t(X_train[t,best_feat],y[t],thr[best_feat][best_eps_ind])) / E) for t in range(X_train.shape[0])])\n",
    "    \n",
    "    #normalize P\n",
    "    sum_P = np.sum(P)\n",
    "    P = P / sum_P    \n",
    "    \n",
    "    tree = {\n",
    "      \"feature\": best_feat,\n",
    "      \"threshold\": best_eps_ind,\n",
    "      \"threshold value\": best_eps,\n",
    "      \"dir\": direction,\n",
    "      \"w\": w  \n",
    "    }\n",
    "        \n",
    "    return P, tree"
   ]
  },
  {
   "cell_type": "markdown",
   "id": "00ba6ac2",
   "metadata": {},
   "source": [
    "The whole operation above can be wrapped into the selection of the feature and subsequent update of P and of the forest with the addiction of a new tree."
   ]
  },
  {
   "cell_type": "code",
   "execution_count": 16,
   "id": "f7582574",
   "metadata": {},
   "outputs": [],
   "source": [
    "def add_tree(X_train,y,P,thr,forest):\n",
    "    best_feat, best_eps_ind,best_eps, direction = select_feat(X_train,y,P,thr)\n",
    "    P,tree = update(best_feat, best_eps_ind,best_eps, direction,P,X_train,y,thr)\n",
    "\n",
    "    forest = np.append(forest,tree)\n",
    "    return forest,P"
   ]
  },
  {
   "cell_type": "markdown",
   "id": "7cd243b6",
   "metadata": {},
   "source": [
    "The operation is repeated for each possible type for T times"
   ]
  },
  {
   "cell_type": "code",
   "execution_count": 17,
   "id": "6534aed5",
   "metadata": {},
   "outputs": [],
   "source": [
    "def build_forest(T,X_train,y,P,thr):\n",
    "    forest = np.array([])\n",
    "    for i in range(T):\n",
    "        forest,P = add_tree(X_train,y,P,thr,forest)\n",
    "    return forest"
   ]
  },
  {
   "cell_type": "markdown",
   "id": "44ce7b6c",
   "metadata": {},
   "source": [
    "And for each type of the multiclass"
   ]
  },
  {
   "cell_type": "code",
   "execution_count": 18,
   "id": "e309b38e",
   "metadata": {},
   "outputs": [],
   "source": [
    "def multiforest(T,X_train,y_train,thr):\n",
    "    global y_set\n",
    "    \n",
    "    multiforest = []\n",
    "    \n",
    "    for i in y_set:\n",
    "        P = np.ones(X_train.shape[0])\n",
    "        P = P / X_train.shape[0]\n",
    "\n",
    "        this_y = bool_y(y_train,i)\n",
    "        multiforest.append(build_forest(T,X_train,this_y,P,thr))\n",
    "    \n",
    "    return multiforest"
   ]
  },
  {
   "cell_type": "markdown",
   "id": "8e02d379",
   "metadata": {},
   "source": [
    "The whole code just explained is all we need to build the forest. We now need a way to evaluate its performance, both inside the training set and the test set. The approach in this case is to use a bidimensional matrix and progressively sum the new values where the index is greater or equal to the round number in exam. After that, the zero-one loss is simple: it is equal to one for every record when the classification is different than the real value, i.e. the difference between them is not equal to zero."
   ]
  },
  {
   "cell_type": "code",
   "execution_count": 19,
   "id": "e5ca1a06",
   "metadata": {},
   "outputs": [],
   "source": [
    "def predict(X_k,y_k,thr,multif):\n",
    "    #predict every entry at each level T\n",
    "    global T\n",
    "    \n",
    "    len_y = len(y_k)\n",
    "    ind = np.arange(0,T)\n",
    "    \n",
    "    #initialize f_multif so that it will be immediately replaced\n",
    "    f_multif = np.ones((T,len_y)).astype(np.float)*(-5)\n",
    "    final_pred = np.ones((T,len_y))\n",
    "    loss = np.zeros((T,len_y))\n",
    "    \n",
    "    type_ind = 1\n",
    "    for i in multif: #types        \n",
    "        f = np.zeros((T,len_y)).astype(np.float)      \n",
    "        for j in range(T): #stumps\n",
    "            thr_num = i[j]['threshold']\n",
    "            feat = i[j]['feature']\n",
    "            direction = i[j]['dir']\n",
    "            w = i[j]['w']\n",
    "            this_thr = thr[feat][thr_num]\n",
    "            h = np.array([-1 if X_k_t < this_thr else 1 for X_k_t in X_k[feat]])\n",
    "                      \n",
    "            f[ind >= j] = f[ind >= j] + w * h * direction\n",
    "        \n",
    "        for j in range(T):\n",
    "            for jj in range(len_y):\n",
    "                if f[j][jj] > f_multif[j][jj]:\n",
    "                    f_multif[j][jj] = f[j][jj]\n",
    "                    final_pred[j][jj] = type_ind\n",
    "        type_ind += 1\n",
    "        \n",
    "    for j in range(T):\n",
    "        loss[j][final_pred[j] != y_k] = 1\n",
    "            \n",
    "    total_loss = np.array([np.sum([(fp - y_k) != 0])/len_y for fp in final_pred])\n",
    "    return total_loss"
   ]
  },
  {
   "cell_type": "code",
   "execution_count": 20,
   "id": "0323be7a",
   "metadata": {},
   "outputs": [],
   "source": [
    "#K = total number of folders, X_len = n of samples, small_k = focus folder\n",
    "def crossval(small_k):\n",
    "    global X_len\n",
    "    global K\n",
    "    global X\n",
    "    n = X_len / K\n",
    "    ind = int(small_k*n)\n",
    "    S_k_1 = X[0:ind,:]\n",
    "    y_k_1 = y[0:ind]\n",
    "\n",
    "    ind = int((small_k+1)*n)\n",
    "    S_k_2 = X[ind:X_len,:]\n",
    "    y_k_2 = y[ind:X_len]\n",
    "\n",
    "    S_k = np.concatenate((S_k_1,S_k_2), axis = 0)\n",
    "\n",
    "    y_k = np.append(y_k_1,y_k_2)\n",
    "        \n",
    "    ind = int((small_k+1)*n)\n",
    "    D_k = X[int(small_k*n):ind,:]   \n",
    "    y_D_k = y[int(small_k*n):ind]\n",
    "        \n",
    "    thr = np.array([threshold(S_k[:,i],spl) for i in range(S_k.shape[1])],dtype=object)\n",
    "\n",
    "    #create the forest for each type\n",
    "    multif = multiforest(T,S_k,y_k,thr)\n",
    "\n",
    "    #predict\n",
    "    tr_S_k = np.transpose(S_k)\n",
    "    tr_D_k = np.transpose(D_k)\n",
    "    \n",
    "    train_error = predict(tr_S_k,y_k,thr,multif)\n",
    "    test_error = predict(tr_D_k,y_D_k,thr,multif)\n",
    "        \n",
    "    return train_error, test_error"
   ]
  },
  {
   "cell_type": "markdown",
   "id": "aadf8c87",
   "metadata": {},
   "source": [
    "X, y are initialized"
   ]
  },
  {
   "cell_type": "code",
   "execution_count": 21,
   "id": "bd3cb114",
   "metadata": {},
   "outputs": [],
   "source": [
    "X = dataset.drop(columns=['Id', 'Cover_Type']).values\n",
    "y = dataset['Cover_Type'].values\n",
    "\n",
    "y_set = set(y)\n",
    "X_len = X.shape[0]"
   ]
  },
  {
   "cell_type": "markdown",
   "id": "9e2d92a0",
   "metadata": {},
   "source": [
    "As well as the parameters T (number of trees) and K (number of folders) and the thresholds"
   ]
  },
  {
   "cell_type": "code",
   "execution_count": 22,
   "id": "77552df3",
   "metadata": {},
   "outputs": [],
   "source": [
    "T = 400\n",
    "K = 4\n",
    "#number of possible splits\n",
    "spl = 100"
   ]
  },
  {
   "cell_type": "code",
   "execution_count": 23,
   "id": "2c86c06a",
   "metadata": {},
   "outputs": [],
   "source": [
    "train_error = []\n",
    "test_error = []\n",
    "\n",
    "\n",
    "for i in range(K):\n",
    "    train_error.append([])\n",
    "    test_error.append([])\n",
    "    \n",
    "for i in range(K):\n",
    "    tr_error, ts_error = crossval(i)\n",
    "    train_error[i] = np.append(train_error[i],tr_error)\n",
    "    test_error[i] = np.append(test_error[i],ts_error)\n",
    "\n",
    "train_error = np.transpose(train_error)\n",
    "test_error = np.transpose(test_error)"
   ]
  },
  {
   "cell_type": "code",
   "execution_count": 24,
   "id": "9b00d6cf",
   "metadata": {},
   "outputs": [
    {
     "data": {
      "text/html": [
       "<div>\n",
       "<style scoped>\n",
       "    .dataframe tbody tr th:only-of-type {\n",
       "        vertical-align: middle;\n",
       "    }\n",
       "\n",
       "    .dataframe tbody tr th {\n",
       "        vertical-align: top;\n",
       "    }\n",
       "\n",
       "    .dataframe thead th {\n",
       "        text-align: right;\n",
       "    }\n",
       "</style>\n",
       "<table border=\"1\" class=\"dataframe\">\n",
       "  <thead>\n",
       "    <tr style=\"text-align: right;\">\n",
       "      <th></th>\n",
       "      <th>Training error</th>\n",
       "      <th>Test error</th>\n",
       "    </tr>\n",
       "  </thead>\n",
       "  <tbody>\n",
       "    <tr>\n",
       "      <th>40</th>\n",
       "      <td>0.27782±0.00466</td>\n",
       "      <td>0.32804±0.04186</td>\n",
       "    </tr>\n",
       "    <tr>\n",
       "      <th>80</th>\n",
       "      <td>0.26422±0.0059</td>\n",
       "      <td>0.31567±0.03008</td>\n",
       "    </tr>\n",
       "    <tr>\n",
       "      <th>120</th>\n",
       "      <td>0.25714±0.00436</td>\n",
       "      <td>0.31144±0.02636</td>\n",
       "    </tr>\n",
       "    <tr>\n",
       "      <th>160</th>\n",
       "      <td>0.2506±0.00479</td>\n",
       "      <td>0.31197±0.02816</td>\n",
       "    </tr>\n",
       "    <tr>\n",
       "      <th>200</th>\n",
       "      <td>0.24658±0.00628</td>\n",
       "      <td>0.30787±0.02775</td>\n",
       "    </tr>\n",
       "    <tr>\n",
       "      <th>240</th>\n",
       "      <td>0.24427±0.00602</td>\n",
       "      <td>0.30979±0.02968</td>\n",
       "    </tr>\n",
       "    <tr>\n",
       "      <th>280</th>\n",
       "      <td>0.24224±0.00527</td>\n",
       "      <td>0.30886±0.02879</td>\n",
       "    </tr>\n",
       "    <tr>\n",
       "      <th>320</th>\n",
       "      <td>0.24094±0.00513</td>\n",
       "      <td>0.30675±0.02745</td>\n",
       "    </tr>\n",
       "    <tr>\n",
       "      <th>360</th>\n",
       "      <td>0.23785±0.00513</td>\n",
       "      <td>0.30734±0.02854</td>\n",
       "    </tr>\n",
       "    <tr>\n",
       "      <th>400</th>\n",
       "      <td>0.23618±0.00495</td>\n",
       "      <td>0.30681±0.02779</td>\n",
       "    </tr>\n",
       "  </tbody>\n",
       "</table>\n",
       "</div>"
      ],
      "text/plain": [
       "      Training error       Test error\n",
       "40   0.27782±0.00466  0.32804±0.04186\n",
       "80    0.26422±0.0059  0.31567±0.03008\n",
       "120  0.25714±0.00436  0.31144±0.02636\n",
       "160   0.2506±0.00479  0.31197±0.02816\n",
       "200  0.24658±0.00628  0.30787±0.02775\n",
       "240  0.24427±0.00602  0.30979±0.02968\n",
       "280  0.24224±0.00527  0.30886±0.02879\n",
       "320  0.24094±0.00513  0.30675±0.02745\n",
       "360  0.23785±0.00513  0.30734±0.02854\n",
       "400  0.23618±0.00495  0.30681±0.02779"
      ]
     },
     "execution_count": 24,
     "metadata": {},
     "output_type": "execute_result"
    }
   ],
   "source": [
    "av_train_error = [np.mean(train_error[i]) for i in range(T)]\n",
    "std_train_error = [np.std(train_error[i]) for i in range(T)]\n",
    "av_test_error = [np.mean(test_error[i]) for i in range(T)]\n",
    "std_test_error = [np.std(test_error[i]) for i in range(T)]\n",
    "\n",
    "#plot\n",
    "step = 40\n",
    "T_ar = np.arange(T)\n",
    "\n",
    "train_column = [str(np.round(av_train_error[st],5))+\"±\"+str(np.round(std_train_error[st],5)) for st in T_ar[step-1::step]]\n",
    "test_column = [str(np.round(av_test_error[st],5))+\"±\"+str(np.round(std_test_error[st],5)) for st in T_ar[step-1::step]]\n",
    "\n",
    "d = {'Training error': train_column, 'Test error': test_column}\n",
    "error_df = pd.DataFrame(data=d,index=T_ar[step-1::step]+1)\n",
    "\n",
    "error_df"
   ]
  },
  {
   "cell_type": "code",
   "execution_count": 25,
   "id": "0a3f7b05",
   "metadata": {},
   "outputs": [
    {
     "data": {
      "image/png": "[encoded data removed]",
      "text/plain": [
       "<Figure size 432x288 with 1 Axes>"
      ]
     },
     "metadata": {
      "needs_background": "light"
     },
     "output_type": "display_data"
    }
   ],
   "source": [
    "plt.title('AdaBoost Accuracy')\n",
    "plt.errorbar(T_ar[step-1::step],av_train_error[step-1::step],std_test_error[step-1::step],color='#fa4',label=\"Train error\",marker='o')\n",
    "\n",
    "plt.errorbar(T_ar[step-1::step],av_test_error[step-1::step],std_test_error[step-1::step],color='#5cc',label=\"Test error\",marker='o')\n",
    "\n",
    "plt.ylabel('Error')\n",
    "plt.xlabel('Number of trees')\n",
    "\n",
    "plt.legend(loc='lower left')\n",
    "\n",
    "plt.savefig(\"accuracy.jpg\",dpi=300)\n",
    "plt.show()"
   ]
  }
 ],
 "metadata": {
  "kernelspec": {
   "display_name": "Python 3",
   "language": "python",
   "name": "python3"
  },
  "language_info": {
   "codemirror_mode": {
    "name": "ipython",
    "version": 3
   },
   "file_extension": ".py",
   "mimetype": "text/x-python",
   "name": "python",
   "nbconvert_exporter": "python",
   "pygments_lexer": "ipython3",
   "version": "3.9.2"
  }
 },
 "nbformat": 4,
 "nbformat_minor": 5
}
